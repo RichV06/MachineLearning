{
 "cells": [
  {
   "attachments": {},
   "cell_type": "markdown",
   "metadata": {
    "colab_type": "text",
    "id": "TGvdZZ7C16o5"
   },
   "source": [
    "## Escuela de Ingeniería en Computación, ITCR \n",
    "\n",
    "## Estudiante: Ricardo Chacon Brenes\n",
    "\n",
    "## Aprendizaje automático\n",
    "\n",
    " \n",
    "### Segunda tarea programada, julio 2023\n",
    "\n",
    "\n",
    "Profesora: María Auxiliadora Mora\n",
    "\n",
    "Medio de entrega: Por medio del TEC-Digital.\n",
    "\n",
    "Entregables: Un archivo en Jupyter ( .IPYNB ). \n",
    "\n",
    "Modo de trabajo: Individual o en grupos de máximo dos personas.\n",
    "\n",
    "---\n",
    "\n",
    "\n",
    "Objetivo: En el presente trabajo se repasarán conceptos elementales de regresión y aprendizaje profundo con la biblioteca de PyTorch.\n",
    "\n",
    "\n",
    "**Rúbrica:**\n",
    "- **Todas las secciones del código deben estar debidamente documentadas (5 puntos).**\n",
    "- **Deben incluir las referencias del material utilizado (1 punto)**\n",
    "- **El resto de la rúbrica está incluida en las definición de los ejercicios.**\n",
    "\n",
    "---\n"
   ]
  },
  {
   "attachments": {},
   "cell_type": "markdown",
   "metadata": {},
   "source": [
    "## Pregunta 1. Análisis de regresión con aprendizaje profundo (con PyTorch)"
   ]
  },
  {
   "attachments": {},
   "cell_type": "markdown",
   "metadata": {},
   "source": [
    "Para realizar el análisis se utilizará un conjunto de datos generado por la Facultad de Ciencias de la Información y la Computación Donald Bren de la Universidad de California en Irvine disponibles en https://www.kaggle.com/rodolfomendes/abalone-dataset.   \n",
    "\n",
    "Descripción de los datos:\n",
    "El conjunto de datos puede ser utilizado para entrenar modelos para predecir la edad de los abulones (moluscos también conocidos como orejas de mar) a partir de mediciones físicas. Comúnmente, la edad de un abulón se determina cortando la concha a través del cono, tiñéndola y contando el número de anillos a través de un microscopio, una tarea que requiere mucho tiempo. Sin embargo, es posible utilizar datos morfológicos del individuo, que son más fáciles de obtener y permiten predecir la edad este. Una descripción detallada de los datos está disponible en https://archive.ics.uci.edu/ml/datasets/abalone. \n",
    "\n",
    "Dado el conjunto de datos de abulones se **desea crear un modelo de regresión utilizando un perceptrón multicapa para predecir la cantidad de anillos (columna Rings) de estos a partir del conjunto de características**.\n",
    "\n",
    "Realice lo siguiente:\n",
    "\n",
    "**(Es requisito indispensable para tomar en cuenta el ejercicio usar PyTorch).**\n",
    "\n",
    "- a) (1 punto) Describa el conjunto de datos, cada uno de sus campos y referencie la fuente. \n",
    "- b) Cargue el conjunto de datos.\n",
    "- c) (2 puntos) Explore, limpie el conjunto de datos y visualice algunas estadísticas.\n",
    "- d) (1 puntos) Escale los datos datos.\n",
    "- e) (2 puntos) Seleccione las características que más contribuyen al proceso de modelización utilizando los algoritmos vistos en clase. Explique los resultados.\n",
    "- f) (5 puntos) Defina una **red profunda con arquitectura de perceptrón multicapa** implementada con PyTorch.\n",
    "- g) (3 puntos) Intancie un modelo y realice el entrenamiento de este.\n",
    "- h) (2 puntos) Calcule la pérdida utilizando el error cuadrático medio (MSE) y error absoluto medio (MAE).\n",
    "- i) (1 puntos) Prepare un ejemplo de uso del modelo seleccionado y explique el resultado.\n",
    "- j) (3 puntos) Realice al menos tres conclusiones sobre el ejercicio.\n"
   ]
  },
  {
   "cell_type": "code",
   "execution_count": 3,
   "metadata": {},
   "outputs": [
    {
     "name": "stdout",
     "output_type": "stream",
     "text": [
      "Descripcion de Datos\n"
     ]
    },
    {
     "data": {
      "text/html": [
       "<div>\n",
       "<style scoped>\n",
       "    .dataframe tbody tr th:only-of-type {\n",
       "        vertical-align: middle;\n",
       "    }\n",
       "\n",
       "    .dataframe tbody tr th {\n",
       "        vertical-align: top;\n",
       "    }\n",
       "\n",
       "    .dataframe thead th {\n",
       "        text-align: right;\n",
       "    }\n",
       "</style>\n",
       "<table border=\"1\" class=\"dataframe\">\n",
       "  <thead>\n",
       "    <tr style=\"text-align: right;\">\n",
       "      <th></th>\n",
       "      <th>Length</th>\n",
       "      <th>Diameter</th>\n",
       "      <th>Height</th>\n",
       "      <th>Whole</th>\n",
       "      <th>Viscera</th>\n",
       "      <th>Shellweight</th>\n",
       "      <th>Rings</th>\n",
       "    </tr>\n",
       "  </thead>\n",
       "  <tbody>\n",
       "    <tr>\n",
       "      <th>count</th>\n",
       "      <td>987.000000</td>\n",
       "      <td>987.000000</td>\n",
       "      <td>987.000000</td>\n",
       "      <td>987.000000</td>\n",
       "      <td>987.000000</td>\n",
       "      <td>987.000000</td>\n",
       "      <td>987.000000</td>\n",
       "    </tr>\n",
       "    <tr>\n",
       "      <th>mean</th>\n",
       "      <td>0.489630</td>\n",
       "      <td>0.383678</td>\n",
       "      <td>0.133131</td>\n",
       "      <td>0.712899</td>\n",
       "      <td>0.155166</td>\n",
       "      <td>0.218105</td>\n",
       "      <td>19.567376</td>\n",
       "    </tr>\n",
       "    <tr>\n",
       "      <th>std</th>\n",
       "      <td>0.120444</td>\n",
       "      <td>0.101893</td>\n",
       "      <td>0.039270</td>\n",
       "      <td>0.454114</td>\n",
       "      <td>0.097596</td>\n",
       "      <td>0.144131</td>\n",
       "      <td>290.580810</td>\n",
       "    </tr>\n",
       "    <tr>\n",
       "      <th>min</th>\n",
       "      <td>0.075000</td>\n",
       "      <td>0.055000</td>\n",
       "      <td>0.010000</td>\n",
       "      <td>0.002000</td>\n",
       "      <td>0.000500</td>\n",
       "      <td>0.001500</td>\n",
       "      <td>-1300.000000</td>\n",
       "    </tr>\n",
       "    <tr>\n",
       "      <th>25%</th>\n",
       "      <td>0.415000</td>\n",
       "      <td>0.322500</td>\n",
       "      <td>0.105000</td>\n",
       "      <td>0.354500</td>\n",
       "      <td>0.074000</td>\n",
       "      <td>0.105000</td>\n",
       "      <td>8.000000</td>\n",
       "    </tr>\n",
       "    <tr>\n",
       "      <th>50%</th>\n",
       "      <td>0.505000</td>\n",
       "      <td>0.400000</td>\n",
       "      <td>0.135000</td>\n",
       "      <td>0.663000</td>\n",
       "      <td>0.146000</td>\n",
       "      <td>0.200000</td>\n",
       "      <td>10.000000</td>\n",
       "    </tr>\n",
       "    <tr>\n",
       "      <th>75%</th>\n",
       "      <td>0.580000</td>\n",
       "      <td>0.455000</td>\n",
       "      <td>0.160000</td>\n",
       "      <td>0.996500</td>\n",
       "      <td>0.220250</td>\n",
       "      <td>0.305000</td>\n",
       "      <td>13.000000</td>\n",
       "    </tr>\n",
       "    <tr>\n",
       "      <th>max</th>\n",
       "      <td>0.745000</td>\n",
       "      <td>0.600000</td>\n",
       "      <td>0.240000</td>\n",
       "      <td>2.825500</td>\n",
       "      <td>0.541000</td>\n",
       "      <td>1.005000</td>\n",
       "      <td>9000.000000</td>\n",
       "    </tr>\n",
       "  </tbody>\n",
       "</table>\n",
       "</div>"
      ],
      "text/plain": [
       "           Length    Diameter      Height       Whole     Viscera   \n",
       "count  987.000000  987.000000  987.000000  987.000000  987.000000  \\\n",
       "mean     0.489630    0.383678    0.133131    0.712899    0.155166   \n",
       "std      0.120444    0.101893    0.039270    0.454114    0.097596   \n",
       "min      0.075000    0.055000    0.010000    0.002000    0.000500   \n",
       "25%      0.415000    0.322500    0.105000    0.354500    0.074000   \n",
       "50%      0.505000    0.400000    0.135000    0.663000    0.146000   \n",
       "75%      0.580000    0.455000    0.160000    0.996500    0.220250   \n",
       "max      0.745000    0.600000    0.240000    2.825500    0.541000   \n",
       "\n",
       "       Shellweight        Rings  \n",
       "count   987.000000   987.000000  \n",
       "mean      0.218105    19.567376  \n",
       "std       0.144131   290.580810  \n",
       "min       0.001500 -1300.000000  \n",
       "25%       0.105000     8.000000  \n",
       "50%       0.200000    10.000000  \n",
       "75%       0.305000    13.000000  \n",
       "max       1.005000  9000.000000  "
      ]
     },
     "execution_count": 3,
     "metadata": {},
     "output_type": "execute_result"
    }
   ],
   "source": [
    "# a) Describa el conjunto de datos, cada uno de sus campos y referencie la fuente. \n",
    "# b) Cargue el conjunto de datos.\n",
    "\n",
    "import pandas as pd\n",
    "\n",
    "#cargar csv file con los datos\n",
    "\n",
    "file_path = r'C:\\Users\\chaconri\\Desktop\\Data Science TEC\\Abalone.csv'\n",
    "Datos = pd.read_csv(file_path)\n",
    "\n",
    "print('Descripcion de Datos')\n",
    "Datos.describe()\n",
    "#Fuente de datos: Para realizar el análisis se utilizará un conjunto de datos generado por la Facultad de Ciencias de la Información y la Computación Donald Bren de la Universidad de California en Irvine disponibles en https://www.kaggle.com/rodolfomendes/abalone-dataset.   "
   ]
  },
  {
   "cell_type": "code",
   "execution_count": 4,
   "metadata": {},
   "outputs": [
    {
     "name": "stdout",
     "output_type": "stream",
     "text": [
      "Data Set size (987, 7)\n"
     ]
    },
    {
     "data": {
      "text/html": [
       "<div>\n",
       "<style scoped>\n",
       "    .dataframe tbody tr th:only-of-type {\n",
       "        vertical-align: middle;\n",
       "    }\n",
       "\n",
       "    .dataframe tbody tr th {\n",
       "        vertical-align: top;\n",
       "    }\n",
       "\n",
       "    .dataframe thead th {\n",
       "        text-align: right;\n",
       "    }\n",
       "</style>\n",
       "<table border=\"1\" class=\"dataframe\">\n",
       "  <thead>\n",
       "    <tr style=\"text-align: right;\">\n",
       "      <th></th>\n",
       "      <th>Length</th>\n",
       "      <th>Diameter</th>\n",
       "      <th>Height</th>\n",
       "      <th>Whole</th>\n",
       "      <th>Viscera</th>\n",
       "      <th>Shellweight</th>\n",
       "      <th>Rings</th>\n",
       "    </tr>\n",
       "  </thead>\n",
       "  <tbody>\n",
       "    <tr>\n",
       "      <th>0</th>\n",
       "      <td>0.745</td>\n",
       "      <td>0.585</td>\n",
       "      <td>0.215</td>\n",
       "      <td>2.4990</td>\n",
       "      <td>0.4720</td>\n",
       "      <td>0.700</td>\n",
       "      <td>17</td>\n",
       "    </tr>\n",
       "    <tr>\n",
       "      <th>1</th>\n",
       "      <td>0.740</td>\n",
       "      <td>0.600</td>\n",
       "      <td>0.195</td>\n",
       "      <td>1.9740</td>\n",
       "      <td>0.4085</td>\n",
       "      <td>0.710</td>\n",
       "      <td>16</td>\n",
       "    </tr>\n",
       "    <tr>\n",
       "      <th>2</th>\n",
       "      <td>0.735</td>\n",
       "      <td>0.590</td>\n",
       "      <td>0.225</td>\n",
       "      <td>1.7560</td>\n",
       "      <td>0.3405</td>\n",
       "      <td>0.580</td>\n",
       "      <td>21</td>\n",
       "    </tr>\n",
       "    <tr>\n",
       "      <th>3</th>\n",
       "      <td>0.730</td>\n",
       "      <td>0.595</td>\n",
       "      <td>0.230</td>\n",
       "      <td>2.8255</td>\n",
       "      <td>0.4190</td>\n",
       "      <td>0.897</td>\n",
       "      <td>17</td>\n",
       "    </tr>\n",
       "    <tr>\n",
       "      <th>4</th>\n",
       "      <td>0.725</td>\n",
       "      <td>0.560</td>\n",
       "      <td>0.210</td>\n",
       "      <td>2.1410</td>\n",
       "      <td>0.3980</td>\n",
       "      <td>1.005</td>\n",
       "      <td>18</td>\n",
       "    </tr>\n",
       "  </tbody>\n",
       "</table>\n",
       "</div>"
      ],
      "text/plain": [
       "   Length  Diameter  Height   Whole  Viscera  Shellweight  Rings\n",
       "0   0.745     0.585   0.215  2.4990   0.4720        0.700     17\n",
       "1   0.740     0.600   0.195  1.9740   0.4085        0.710     16\n",
       "2   0.735     0.590   0.225  1.7560   0.3405        0.580     21\n",
       "3   0.730     0.595   0.230  2.8255   0.4190        0.897     17\n",
       "4   0.725     0.560   0.210  2.1410   0.3980        1.005     18"
      ]
     },
     "execution_count": 4,
     "metadata": {},
     "output_type": "execute_result"
    }
   ],
   "source": [
    "print('Data Set size', Datos.shape)\n",
    "Datos.head()"
   ]
  },
  {
   "cell_type": "code",
   "execution_count": 5,
   "metadata": {},
   "outputs": [
    {
     "name": "stdout",
     "output_type": "stream",
     "text": [
      "Length         0\n",
      "Diameter       0\n",
      "Height         0\n",
      "Whole          0\n",
      "Viscera        0\n",
      "Shellweight    0\n",
      "Rings          0\n",
      "dtype: int64\n"
     ]
    },
    {
     "data": {
      "image/png": "[encoded data removed]",
      "text/plain": [
       "<Figure size 1000x600 with 2 Axes>"
      ]
     },
     "metadata": {},
     "output_type": "display_data"
    }
   ],
   "source": [
    " # c)  Explore, limpie el conjunto de datos y visualice algunas estadísticas.\n",
    "\n",
    "# Visualizar y contar datos faltantes\n",
    "\n",
    "import pandas as pd\n",
    "import seaborn as sns\n",
    "import matplotlib.pyplot as plt\n",
    "\n",
    "# Contar los datos faltantes por columna\n",
    "datos_faltantes = Datos.isnull().sum()\n",
    "\n",
    "# Imprimir el resultado\n",
    "print(datos_faltantes)\n",
    "\n",
    "# Crear el mapa de calor de los valores faltantes\n",
    "plt.figure(figsize=(10, 6))\n",
    "sns.heatmap(Datos.isnull(), cmap='viridis')\n",
    "plt.xlabel('Columnas')\n",
    "plt.ylabel('Filas')\n",
    "plt.title('Mapa de calor de valores faltantes en Datos')\n",
    "plt.show()\n",
    "\n"
   ]
  },
  {
   "cell_type": "code",
   "execution_count": 6,
   "metadata": {},
   "outputs": [
    {
     "data": {
      "image/png": "[encoded data removed]",
      "text/plain": [
       "<Figure size 1200x600 with 7 Axes>"
      ]
     },
     "metadata": {},
     "output_type": "display_data"
    }
   ],
   "source": [
    "# Crea un boxplot para cada columna en el DataFrame\n",
    "plt.figure(figsize=(12, 6))  \n",
    "\n",
    "# boxplot por columna\n",
    "for columna in Datos.columns:\n",
    "    plt.subplot(1, len(Datos.columns), Datos.columns.get_loc(columna) + 1)\n",
    "    sns.boxplot(y=Datos[columna])\n",
    "    plt.title(columna)\n",
    "\n",
    "plt.tight_layout()  \n",
    "plt.show()"
   ]
  },
  {
   "cell_type": "code",
   "execution_count": 7,
   "metadata": {},
   "outputs": [
    {
     "data": {
      "image/png": "[encoded data removed]",
      "text/plain": [
       "<Figure size 640x480 with 1 Axes>"
      ]
     },
     "metadata": {},
     "output_type": "display_data"
    }
   ],
   "source": [
    "#identificar anomalias (Bloquees de Aislamiento)\n",
    "\n",
    "from numpy import quantile, random, where\n",
    "from sklearn.ensemble import IsolationForest\n",
    "import matplotlib.pyplot as plt\n",
    " \n",
    "\n",
    "X = Datos.values\n",
    "clf = IsolationForest(n_estimators=100, contamination=0.04)\n",
    "predictions = clf.fit_predict(X)\n",
    "outlier_index = (predictions == -1)\n",
    "\n",
    "# Obtener los valores de los outliers\n",
    "outliers = X[outlier_index]\n",
    "\n",
    "# Visualizar todos los datos y los outliers en un solo gráfico de dispersión\n",
    "plt.scatter(X[:, 0], X[:, 1], label='Datos')\n",
    "plt.scatter(outliers[:, 0], outliers[:, 1], color='red', label='Outliers')\n",
    "plt.xlabel('Característica 1')\n",
    "plt.ylabel('Característica 2')\n",
    "plt.legend()\n",
    "plt.show()\n",
    "\n"
   ]
  },
  {
   "cell_type": "code",
   "execution_count": 8,
   "metadata": {},
   "outputs": [
    {
     "name": "stdout",
     "output_type": "stream",
     "text": [
      "Datos escalados\n"
     ]
    },
    {
     "data": {
      "text/plain": [
       "Length         1.000507\n",
       "Diameter       1.000507\n",
       "Height         1.000507\n",
       "Whole          1.000507\n",
       "Viscera        1.000507\n",
       "Shellweight    1.000507\n",
       "Rings          1.000507\n",
       "dtype: float64"
      ]
     },
     "execution_count": 8,
     "metadata": {},
     "output_type": "execute_result"
    }
   ],
   "source": [
    "#  d)  Escale los datos datos.\n",
    "\n",
    "from sklearn import preprocessing\n",
    "\n",
    "Datos_Escalados = preprocessing.scale(Datos)\n",
    "\n",
    "scaled_df = pd.DataFrame(Datos_Escalados, columns=Datos.columns)\n",
    "\n",
    "Datos.iloc[:, :] = scaled_df.values\n",
    "\n",
    "print('Datos escalados')\n",
    "Datos.std(axis=0)"
   ]
  },
  {
   "cell_type": "code",
   "execution_count": 9,
   "metadata": {},
   "outputs": [
    {
     "data": {
      "text/html": [
       "<div>\n",
       "<style scoped>\n",
       "    .dataframe tbody tr th:only-of-type {\n",
       "        vertical-align: middle;\n",
       "    }\n",
       "\n",
       "    .dataframe tbody tr th {\n",
       "        vertical-align: top;\n",
       "    }\n",
       "\n",
       "    .dataframe thead th {\n",
       "        text-align: right;\n",
       "    }\n",
       "</style>\n",
       "<table border=\"1\" class=\"dataframe\">\n",
       "  <thead>\n",
       "    <tr style=\"text-align: right;\">\n",
       "      <th></th>\n",
       "      <th>Length</th>\n",
       "      <th>Diameter</th>\n",
       "      <th>Height</th>\n",
       "      <th>Whole</th>\n",
       "      <th>Viscera</th>\n",
       "      <th>Shellweight</th>\n",
       "      <th>Rings</th>\n",
       "    </tr>\n",
       "  </thead>\n",
       "  <tbody>\n",
       "    <tr>\n",
       "      <th>0</th>\n",
       "      <td>2.121310</td>\n",
       "      <td>1.976820</td>\n",
       "      <td>2.085814</td>\n",
       "      <td>3.935152</td>\n",
       "      <td>3.248042</td>\n",
       "      <td>3.345140</td>\n",
       "      <td>-0.008840</td>\n",
       "    </tr>\n",
       "    <tr>\n",
       "      <th>1</th>\n",
       "      <td>2.079776</td>\n",
       "      <td>2.124107</td>\n",
       "      <td>1.576267</td>\n",
       "      <td>2.778468</td>\n",
       "      <td>2.597068</td>\n",
       "      <td>3.414556</td>\n",
       "      <td>-0.012283</td>\n",
       "    </tr>\n",
       "    <tr>\n",
       "      <th>2</th>\n",
       "      <td>2.038242</td>\n",
       "      <td>2.025916</td>\n",
       "      <td>2.340588</td>\n",
       "      <td>2.298168</td>\n",
       "      <td>1.899962</td>\n",
       "      <td>2.512144</td>\n",
       "      <td>0.004933</td>\n",
       "    </tr>\n",
       "    <tr>\n",
       "      <th>3</th>\n",
       "      <td>1.996707</td>\n",
       "      <td>2.075012</td>\n",
       "      <td>2.467974</td>\n",
       "      <td>4.654499</td>\n",
       "      <td>2.704710</td>\n",
       "      <td>4.712642</td>\n",
       "      <td>-0.008840</td>\n",
       "    </tr>\n",
       "    <tr>\n",
       "      <th>4</th>\n",
       "      <td>1.955173</td>\n",
       "      <td>1.731340</td>\n",
       "      <td>1.958427</td>\n",
       "      <td>3.146403</td>\n",
       "      <td>2.489427</td>\n",
       "      <td>5.462339</td>\n",
       "      <td>-0.005397</td>\n",
       "    </tr>\n",
       "  </tbody>\n",
       "</table>\n",
       "</div>"
      ],
      "text/plain": [
       "     Length  Diameter    Height     Whole   Viscera  Shellweight     Rings\n",
       "0  2.121310  1.976820  2.085814  3.935152  3.248042     3.345140 -0.008840\n",
       "1  2.079776  2.124107  1.576267  2.778468  2.597068     3.414556 -0.012283\n",
       "2  2.038242  2.025916  2.340588  2.298168  1.899962     2.512144  0.004933\n",
       "3  1.996707  2.075012  2.467974  4.654499  2.704710     4.712642 -0.008840\n",
       "4  1.955173  1.731340  1.958427  3.146403  2.489427     5.462339 -0.005397"
      ]
     },
     "execution_count": 9,
     "metadata": {},
     "output_type": "execute_result"
    }
   ],
   "source": [
    "Datos.head()"
   ]
  },
  {
   "cell_type": "code",
   "execution_count": 10,
   "metadata": {},
   "outputs": [],
   "source": [
    "from sklearn.model_selection import train_test_split\n",
    "from sklearn.datasets import load_breast_cancer \n",
    "from sklearn.feature_selection import mutual_info_classif\n",
    "from sklearn.model_selection import train_test_split \n",
    "import numpy as np\n",
    "from sklearn.feature_selection import SelectPercentile \n",
    "from sklearn.preprocessing import MinMaxScaler\n",
    "from sklearn.feature_selection import mutual_info_regression\n",
    "from sklearn.feature_selection import mutual_info_regression\n",
    "from sklearn.preprocessing import MinMaxScaler"
   ]
  },
  {
   "cell_type": "code",
   "execution_count": 11,
   "metadata": {},
   "outputs": [
    {
     "name": "stdout",
     "output_type": "stream",
     "text": [
      "Número de características (987, 6)\n"
     ]
    }
   ],
   "source": [
    "# e)  Seleccione las características que más contribuyen al proceso de modelización utilizando los algoritmos vistos en clase. Explique los resultados.\n",
    "\n",
    "#Metodo de informacion mutua\n",
    "\n",
    "X = Datos.drop('Rings', axis=1)\n",
    "y = Datos['Rings']\n",
    "\n",
    "print(\"Número de características\", X.shape)\n"
   ]
  },
  {
   "cell_type": "code",
   "execution_count": 12,
   "metadata": {},
   "outputs": [
    {
     "data": {
      "text/plain": [
       "array([0.33515558, 0.39466778, 0.42849226, 0.39457977, 0.35450645,\n",
       "       0.47378119])"
      ]
     },
     "execution_count": 12,
     "metadata": {},
     "output_type": "execute_result"
    }
   ],
   "source": [
    "# Compute MI (mutual information) score\n",
    "\n",
    "THRESHOLD = 5e-1\n",
    "\n",
    "mi_score = mutual_info_regression(X, y)\n",
    "\n",
    "mi_score"
   ]
  },
  {
   "cell_type": "code",
   "execution_count": 13,
   "metadata": {},
   "outputs": [
    {
     "data": {
      "text/html": [
       "<div>\n",
       "<style scoped>\n",
       "    .dataframe tbody tr th:only-of-type {\n",
       "        vertical-align: middle;\n",
       "    }\n",
       "\n",
       "    .dataframe tbody tr th {\n",
       "        vertical-align: top;\n",
       "    }\n",
       "\n",
       "    .dataframe thead th {\n",
       "        text-align: right;\n",
       "    }\n",
       "</style>\n",
       "<table border=\"1\" class=\"dataframe\">\n",
       "  <thead>\n",
       "    <tr style=\"text-align: right;\">\n",
       "      <th></th>\n",
       "      <th>Length</th>\n",
       "      <th>Diameter</th>\n",
       "      <th>Height</th>\n",
       "      <th>Whole</th>\n",
       "      <th>Viscera</th>\n",
       "      <th>Shellweight</th>\n",
       "    </tr>\n",
       "  </thead>\n",
       "  <tbody>\n",
       "    <tr>\n",
       "      <th>0</th>\n",
       "      <td>2.121310</td>\n",
       "      <td>1.976820</td>\n",
       "      <td>2.085814</td>\n",
       "      <td>3.935152</td>\n",
       "      <td>3.248042</td>\n",
       "      <td>3.345140</td>\n",
       "    </tr>\n",
       "    <tr>\n",
       "      <th>1</th>\n",
       "      <td>2.079776</td>\n",
       "      <td>2.124107</td>\n",
       "      <td>1.576267</td>\n",
       "      <td>2.778468</td>\n",
       "      <td>2.597068</td>\n",
       "      <td>3.414556</td>\n",
       "    </tr>\n",
       "    <tr>\n",
       "      <th>2</th>\n",
       "      <td>2.038242</td>\n",
       "      <td>2.025916</td>\n",
       "      <td>2.340588</td>\n",
       "      <td>2.298168</td>\n",
       "      <td>1.899962</td>\n",
       "      <td>2.512144</td>\n",
       "    </tr>\n",
       "    <tr>\n",
       "      <th>3</th>\n",
       "      <td>1.996707</td>\n",
       "      <td>2.075012</td>\n",
       "      <td>2.467974</td>\n",
       "      <td>4.654499</td>\n",
       "      <td>2.704710</td>\n",
       "      <td>4.712642</td>\n",
       "    </tr>\n",
       "    <tr>\n",
       "      <th>4</th>\n",
       "      <td>1.955173</td>\n",
       "      <td>1.731340</td>\n",
       "      <td>1.958427</td>\n",
       "      <td>3.146403</td>\n",
       "      <td>2.489427</td>\n",
       "      <td>5.462339</td>\n",
       "    </tr>\n",
       "    <tr>\n",
       "      <th>...</th>\n",
       "      <td>...</td>\n",
       "      <td>...</td>\n",
       "      <td>...</td>\n",
       "      <td>...</td>\n",
       "      <td>...</td>\n",
       "      <td>...</td>\n",
       "    </tr>\n",
       "    <tr>\n",
       "      <th>982</th>\n",
       "      <td>-2.779711</td>\n",
       "      <td>-2.736389</td>\n",
       "      <td>-2.117951</td>\n",
       "      <td>-1.532109</td>\n",
       "      <td>-1.554815</td>\n",
       "      <td>-1.479296</td>\n",
       "    </tr>\n",
       "    <tr>\n",
       "      <th>983</th>\n",
       "      <td>-2.821245</td>\n",
       "      <td>-2.785485</td>\n",
       "      <td>-2.754885</td>\n",
       "      <td>-1.537617</td>\n",
       "      <td>-1.549690</td>\n",
       "      <td>-1.479296</td>\n",
       "    </tr>\n",
       "    <tr>\n",
       "      <th>984</th>\n",
       "      <td>-2.987381</td>\n",
       "      <td>-2.785485</td>\n",
       "      <td>-2.627498</td>\n",
       "      <td>-1.542024</td>\n",
       "      <td>-1.559941</td>\n",
       "      <td>-1.486238</td>\n",
       "    </tr>\n",
       "    <tr>\n",
       "      <th>985</th>\n",
       "      <td>-3.153518</td>\n",
       "      <td>-2.883677</td>\n",
       "      <td>-2.627498</td>\n",
       "      <td>-1.553040</td>\n",
       "      <td>-1.570193</td>\n",
       "      <td>-1.493179</td>\n",
       "    </tr>\n",
       "    <tr>\n",
       "      <th>986</th>\n",
       "      <td>-3.444256</td>\n",
       "      <td>-3.227348</td>\n",
       "      <td>-3.137046</td>\n",
       "      <td>-1.566259</td>\n",
       "      <td>-1.585570</td>\n",
       "      <td>-1.503592</td>\n",
       "    </tr>\n",
       "  </tbody>\n",
       "</table>\n",
       "<p>987 rows × 6 columns</p>\n",
       "</div>"
      ],
      "text/plain": [
       "       Length  Diameter    Height     Whole   Viscera  Shellweight\n",
       "0    2.121310  1.976820  2.085814  3.935152  3.248042     3.345140\n",
       "1    2.079776  2.124107  1.576267  2.778468  2.597068     3.414556\n",
       "2    2.038242  2.025916  2.340588  2.298168  1.899962     2.512144\n",
       "3    1.996707  2.075012  2.467974  4.654499  2.704710     4.712642\n",
       "4    1.955173  1.731340  1.958427  3.146403  2.489427     5.462339\n",
       "..        ...       ...       ...       ...       ...          ...\n",
       "982 -2.779711 -2.736389 -2.117951 -1.532109 -1.554815    -1.479296\n",
       "983 -2.821245 -2.785485 -2.754885 -1.537617 -1.549690    -1.479296\n",
       "984 -2.987381 -2.785485 -2.627498 -1.542024 -1.559941    -1.486238\n",
       "985 -3.153518 -2.883677 -2.627498 -1.553040 -1.570193    -1.493179\n",
       "986 -3.444256 -3.227348 -3.137046 -1.566259 -1.585570    -1.503592\n",
       "\n",
       "[987 rows x 6 columns]"
      ]
     },
     "execution_count": 13,
     "metadata": {},
     "output_type": "execute_result"
    }
   ],
   "source": [
    "X\n"
   ]
  },
  {
   "cell_type": "code",
   "execution_count": 14,
   "metadata": {},
   "outputs": [
    {
     "data": {
      "text/plain": [
       "(789, 6)"
      ]
     },
     "execution_count": 14,
     "metadata": {},
     "output_type": "execute_result"
    }
   ],
   "source": [
    "from sklearn.model_selection import train_test_split\n",
    "\n",
    "X_train, X_test, y_train, y_test = train_test_split(X, y, test_size=0.2, random_state=42)\n",
    "\n",
    "X_train.shape"
   ]
  },
  {
   "cell_type": "code",
   "execution_count": 53,
   "metadata": {},
   "outputs": [
    {
     "name": "stdout",
     "output_type": "stream",
     "text": [
      "Collecting prettytable\n",
      "  Downloading prettytable-3.8.0-py3-none-any.whl (27 kB)\n",
      "Requirement already satisfied: wcwidth in c:\\users\\chaconri\\appdata\\local\\packages\\pythonsoftwarefoundation.python.3.11_qbz5n2kfra8p0\\localcache\\local-packages\\python311\\site-packages (from prettytable) (0.2.6)\n",
      "Installing collected packages: prettytable\n",
      "Successfully installed prettytable-3.8.0\n",
      "Note: you may need to restart the kernel to use updated packages.\n"
     ]
    }
   ],
   "source": [
    "%pip install prettytable"
   ]
  },
  {
   "cell_type": "code",
   "execution_count": 16,
   "metadata": {},
   "outputs": [],
   "source": [
    "# f) Defina una **red profunda con arquitectura de perceptrón multicapa** implementada con PyTorch.\n",
    "# g) Intancie un modelo y realice el entrenamiento de este.\n",
    "# h) Calcule la pérdida utilizando el error cuadrático medio (MSE) y error absoluto medio (MAE).\n",
    "\n",
    "# General libraries\n",
    "from numpy import vstack\n",
    "from numpy import sqrt\n",
    "from numpy import array\n",
    "from pandas import read_csv, notnull\n",
    "import numpy as np\n",
    "import pandas as pd\n",
    "from prettytable import PrettyTable\n",
    "\n",
    "# Form Scikit-Learn\n",
    "from sklearn.metrics import mean_squared_error\n",
    "from sklearn.metrics import mean_absolute_error\n",
    "from sklearn.preprocessing import MinMaxScaler\n",
    "\n",
    "# Anomalies detection\n",
    "from sklearn.ensemble import IsolationForest\n",
    "\n",
    "# From Pytorch\n",
    "from torch.utils.data import Dataset\n",
    "from torch.utils.data import DataLoader\n",
    "from torch.utils.data import random_split\n",
    "from torch import Tensor\n",
    "from torch.nn import Linear\n",
    "from torch.nn import Sigmoid\n",
    "from torch.nn import Module\n",
    "from torch.optim import SGD\n",
    "from torch.nn import MSELoss\n",
    "from torch.nn.init import xavier_uniform_\n",
    "import torch\n",
    "import torch.nn as nn\n",
    "import torch.optim as optim\n",
    "from torch.utils.data import DataLoader, TensorDataset\n",
    "from sklearn.preprocessing import StandardScaler"
   ]
  },
  {
   "cell_type": "code",
   "execution_count": 42,
   "metadata": {},
   "outputs": [
    {
     "name": "stdout",
     "output_type": "stream",
     "text": [
      "MSE: 3976.802, RMSE: 63.062\n",
      "MAE: 39.265\n",
      "Predicted: -25.811\n"
     ]
    }
   ],
   "source": [
    "class CSVDataset(Dataset):\n",
    "    def __init__(self, df):\n",
    "        self.X = df[['Length', 'Diameter', 'Height', 'Whole', 'Viscera', 'Shellweight']].values.astype('float32')\n",
    "        self.y = df['Rings'].values.astype('float32')\n",
    "        \n",
    "        self.transformer = MinMaxScaler().fit(self.X)\n",
    "        self.X = self.transformer.transform(self.X)\n",
    "        \n",
    "        self.y = self.y.reshape((len(self.y), 1))\n",
    "\n",
    "    def __len__(self):\n",
    "        return len(self.X)\n",
    "\n",
    "    def __getitem__(self, idx):\n",
    "        return [self.X[idx], self.y[idx]]\n",
    "\n",
    "    def get_splits(self, n_test=0.33):\n",
    "        test_size = round(n_test * len(self.X))\n",
    "        train_size = len(self.X) - test_size\n",
    "        return random_split(self, [train_size, test_size])\n",
    "    \n",
    "    def scale_data(self, data_lst):\n",
    "        data_array = np.array(data_lst)\n",
    "        data_array = data_array.reshape(1, -1)\n",
    "        data_array = self.transformer.transform(data_array)\n",
    "        return data_array\n",
    "\n",
    "\n",
    "def prepare_data(dataset):\n",
    "    train, test = dataset.get_splits()\n",
    "    train_dl = DataLoader(train, batch_size=32, shuffle=True)\n",
    "    test_dl = DataLoader(test, batch_size=10, shuffle=False)\n",
    "    return train_dl, test_dl, dataset\n",
    "\n",
    "\n",
    "def evaluate_model(test_dl, model):\n",
    "    predictions, actuals = list(), list()\n",
    "    for i, (inputs, targets) in enumerate(test_dl):\n",
    "        yhat = model(inputs)\n",
    "        yhat = yhat.detach().numpy()\n",
    "        actual = targets.numpy()\n",
    "        actual = actual.reshape((len(actual), 1))\n",
    "        predictions.append(yhat)\n",
    "        actuals.append(actual)\n",
    "    predictions, actuals = np.vstack(predictions), np.vstack(actuals)\n",
    "    mse = mean_squared_error(actuals, predictions)\n",
    "    mae = mean_absolute_error(actuals, predictions)\n",
    "    return mse, mae\n",
    "\n",
    "\n",
    "def predict(row, model, dataset):\n",
    "    row = dataset.scale_data(row)\n",
    "    row = Tensor(np.array([row]))\n",
    "    yhat = model(row)\n",
    "    yhat = yhat.detach().numpy()\n",
    "    return yhat\n",
    "\n",
    "\n",
    "datos_dataset = CSVDataset(Datos)\n",
    "train_dl, test_dl, dataset = prepare_data(datos_dataset)\n",
    "\n",
    "# Define the network\n",
    "n_inputs = dataset.X.shape[1]\n",
    "n_layer_1 = 10\n",
    "n_layer_2 = 8\n",
    "n_output = 1\n",
    "model = MLP(n_inputs, n_output, n_layer_1, n_layer_2)\n",
    "\n"
   ]
  },
  {
   "cell_type": "code",
   "execution_count": 44,
   "metadata": {},
   "outputs": [],
   "source": [
    "# model definition\n",
    "class MLP(Module):\n",
    "    \"\"\"\n",
    "    Class that implements the perceptron, it extends the nn.Module class.\n",
    "    \"\"\"\n",
    "    def __init__(self, n_inputs, n_output, n_layer_1, n_layer_2):\n",
    "        \"\"\"\n",
    "        Defines the model's structure.\n",
    "        :param: n_inputs, amount of input data.\n",
    "        :param: n_output, amount of result elements. \n",
    "        :param: n_layer_1, number of neurons in layer 1.\n",
    "        :param: n_layer_2, number of neurons in layer 2.\n",
    "        \"\"\"\n",
    "        super(MLP, self).__init__()\n",
    "\n",
    "        # input to first hidden layer\n",
    "        self.hidden1 = Linear(n_inputs, n_layer_1)\n",
    "\n",
    "        # Initialization: Weights are scaled using a uniform distribution.\n",
    "        xavier_uniform_(self.hidden1.weight)\n",
    "        self.act1 = Sigmoid()\n",
    "\n",
    "        # second hidden layer\n",
    "        self.hidden2 = Linear(n_layer_1, n_layer_2)\n",
    "        xavier_uniform_(self.hidden2.weight)\n",
    "        self.act2 = Sigmoid()\n",
    "\n",
    "        # third hidden layer and output\n",
    "        self.hidden3 = Linear(n_layer_2, n_output)\n",
    "        xavier_uniform_(self.hidden3.weight)\n",
    "\n",
    "    def forward(self, X):\n",
    "        \"\"\"\n",
    "        Forward run of the network using the data in X.\n",
    "        \"\"\"\n",
    "        # input to first hidden layer\n",
    "        X = self.hidden1(X)\n",
    "        X = self.act1(X)\n",
    "         # second hidden layer\n",
    "        X = self.hidden2(X)\n",
    "        X = self.act2(X)\n",
    "        # third hidden layer and output\n",
    "        X = self.hidden3(X)\n",
    "        return X"
   ]
  },
  {
   "cell_type": "code",
   "execution_count": 46,
   "metadata": {},
   "outputs": [],
   "source": [
    "def train_model(train_dl, model):\n",
    "    \"\"\"\n",
    "    Train the model using the train data loader (train_dl).\n",
    "    :param: train_dl, training data accessed via a dataloader.\n",
    "    :param: model to be trained.\n",
    "    \"\"\"\n",
    "    \n",
    "    # Define the optimization parameters\n",
    "    # Mean Squared Error (MSE)\n",
    "    criterion = MSELoss()\n",
    "    # Stochastic gradient descent (SGD)\n",
    "    optimizer = SGD(model.parameters(), lr=0.01, momentum=0.9)\n",
    "    # enumerate epochs\n",
    "    for epoch in range(100):\n",
    "        # enumerate mini batches\n",
    "        for i, (inputs, targets) in enumerate(train_dl):\n",
    "            # clear the gradients\n",
    "            optimizer.zero_grad()\n",
    "            # compute the model output\n",
    "            yhat = model(inputs)\n",
    "            # calculate loss\n",
    "            loss = criterion(yhat, targets)\n",
    "            # credit assignment\n",
    "            loss.backward()\n",
    "            # update model weights\n",
    "            optimizer.step()\n",
    "    return model"
   ]
  },
  {
   "cell_type": "code",
   "execution_count": 47,
   "metadata": {},
   "outputs": [],
   "source": [
    "\n",
    "# Prepare the data\n",
    "file_path = r'C:\\Users\\chaconri\\Desktop\\Data Science TEC\\Abalone.csv'\n",
    "Datos = pd.read_csv(file_path)\n",
    "\n",
    "\n",
    "\n",
    "# Scale the input features\n",
    "scaler = MinMaxScaler()\n",
    "X = scaler.fit_transform(X)\n",
    "\n",
    "# Split the data into training and test sets\n",
    "X_train, X_test, y_train, y_test = train_test_split(X, y, test_size=0.2, random_state=42)\n",
    "\n",
    "# Convert NumPy arrays to PyTorch tensors\n",
    "X_train = torch.tensor(X_train)\n",
    "y_train = torch.tensor(y_train)\n",
    "X_test = torch.tensor(X_test)\n",
    "y_test = torch.tensor(y_test)\n",
    "\n",
    "# Create DataLoader objects\n",
    "train_dataset = TensorDataset(X_train, y_train)\n",
    "test_dataset = TensorDataset(X_test, y_test)\n",
    "train_dl = DataLoader(train_dataset, batch_size=32, shuffle=True)\n",
    "test_dl = DataLoader(test_dataset, batch_size=10, shuffle=False)\n",
    "\n",
    "# Define the network\n",
    "n_inputs = X.shape[1]\n",
    "n_layer_1 = 10\n",
    "n_layer_2 = 8\n",
    "n_output = 1\n",
    "model = MLP(n_inputs, n_output, n_layer_1, n_layer_2)\n",
    "\n",
    "# Train the model\n",
    "model = train_model(train_dl, model)\n",
    "\n",
    "\n"
   ]
  },
  {
   "cell_type": "code",
   "execution_count": 48,
   "metadata": {},
   "outputs": [
    {
     "name": "stdout",
     "output_type": "stream",
     "text": [
      "Tamaño del dataset (incluyendo el target) (987, 7)\n",
      "==============================================\n",
      "Cantidad de parámetros del modelo\n",
      "+----------------+-------------------+\n",
      "|    Mod name    | Parameters Listed |\n",
      "+----------------+-------------------+\n",
      "| hidden1.weight |         60        |\n",
      "|  hidden1.bias  |         10        |\n",
      "| hidden2.weight |         80        |\n",
      "|  hidden2.bias  |         8         |\n",
      "| hidden3.weight |         8         |\n",
      "|  hidden3.bias  |         1         |\n",
      "+----------------+-------------------+\n",
      "Sum of trained parameters: 167\n"
     ]
    },
    {
     "data": {
      "text/plain": [
       "167"
      ]
     },
     "execution_count": 48,
     "metadata": {},
     "output_type": "execute_result"
    }
   ],
   "source": [
    "# To explore the model parameters\n",
    "print(\"Tamaño del dataset (incluyendo el target)\", Datos.shape)\n",
    "print(\"==============================================\")\n",
    "print(\"Cantidad de parámetros del modelo\")\n",
    "count_parameters(model)"
   ]
  },
  {
   "cell_type": "code",
   "execution_count": 49,
   "metadata": {},
   "outputs": [
    {
     "data": {
      "text/html": [
       "<div>\n",
       "<style scoped>\n",
       "    .dataframe tbody tr th:only-of-type {\n",
       "        vertical-align: middle;\n",
       "    }\n",
       "\n",
       "    .dataframe tbody tr th {\n",
       "        vertical-align: top;\n",
       "    }\n",
       "\n",
       "    .dataframe thead th {\n",
       "        text-align: right;\n",
       "    }\n",
       "</style>\n",
       "<table border=\"1\" class=\"dataframe\">\n",
       "  <thead>\n",
       "    <tr style=\"text-align: right;\">\n",
       "      <th></th>\n",
       "      <th>Length</th>\n",
       "      <th>Diameter</th>\n",
       "      <th>Height</th>\n",
       "      <th>Whole</th>\n",
       "      <th>Viscera</th>\n",
       "      <th>Shellweight</th>\n",
       "      <th>Rings</th>\n",
       "    </tr>\n",
       "  </thead>\n",
       "  <tbody>\n",
       "    <tr>\n",
       "      <th>0</th>\n",
       "      <td>0.745</td>\n",
       "      <td>0.585</td>\n",
       "      <td>0.215</td>\n",
       "      <td>2.4990</td>\n",
       "      <td>0.4720</td>\n",
       "      <td>0.700</td>\n",
       "      <td>17</td>\n",
       "    </tr>\n",
       "    <tr>\n",
       "      <th>1</th>\n",
       "      <td>0.740</td>\n",
       "      <td>0.600</td>\n",
       "      <td>0.195</td>\n",
       "      <td>1.9740</td>\n",
       "      <td>0.4085</td>\n",
       "      <td>0.710</td>\n",
       "      <td>16</td>\n",
       "    </tr>\n",
       "    <tr>\n",
       "      <th>2</th>\n",
       "      <td>0.735</td>\n",
       "      <td>0.590</td>\n",
       "      <td>0.225</td>\n",
       "      <td>1.7560</td>\n",
       "      <td>0.3405</td>\n",
       "      <td>0.580</td>\n",
       "      <td>21</td>\n",
       "    </tr>\n",
       "    <tr>\n",
       "      <th>3</th>\n",
       "      <td>0.730</td>\n",
       "      <td>0.595</td>\n",
       "      <td>0.230</td>\n",
       "      <td>2.8255</td>\n",
       "      <td>0.4190</td>\n",
       "      <td>0.897</td>\n",
       "      <td>17</td>\n",
       "    </tr>\n",
       "    <tr>\n",
       "      <th>4</th>\n",
       "      <td>0.725</td>\n",
       "      <td>0.560</td>\n",
       "      <td>0.210</td>\n",
       "      <td>2.1410</td>\n",
       "      <td>0.3980</td>\n",
       "      <td>1.005</td>\n",
       "      <td>18</td>\n",
       "    </tr>\n",
       "  </tbody>\n",
       "</table>\n",
       "</div>"
      ],
      "text/plain": [
       "   Length  Diameter  Height   Whole  Viscera  Shellweight  Rings\n",
       "0   0.745     0.585   0.215  2.4990   0.4720        0.700     17\n",
       "1   0.740     0.600   0.195  1.9740   0.4085        0.710     16\n",
       "2   0.735     0.590   0.225  1.7560   0.3405        0.580     21\n",
       "3   0.730     0.595   0.230  2.8255   0.4190        0.897     17\n",
       "4   0.725     0.560   0.210  2.1410   0.3980        1.005     18"
      ]
     },
     "execution_count": 49,
     "metadata": {},
     "output_type": "execute_result"
    }
   ],
   "source": [
    "Datos.head()"
   ]
  },
  {
   "cell_type": "code",
   "execution_count": 50,
   "metadata": {},
   "outputs": [
    {
     "data": {
      "text/plain": [
       "array([[1.        , 0.97247696, 0.8913043 , 0.8843634 , 0.87234044,\n",
       "        0.6960638 ],\n",
       "       [0.99253744, 1.        , 0.80434775, 0.6984239 , 0.7548566 ,\n",
       "        0.7060289 ],\n",
       "       [0.9850747 , 0.9816513 , 0.93478256, 0.6212148 , 0.6290472 ,\n",
       "        0.5764823 ],\n",
       "       ...,\n",
       "       [0.08208954, 0.08256881, 0.08695652, 0.00389587, 0.00462535,\n",
       "        0.00249128],\n",
       "       [0.05223881, 0.06422019, 0.08695652, 0.00212502, 0.00277521,\n",
       "        0.00149477],\n",
       "       [0.        , 0.        , 0.        , 0.        , 0.        ,\n",
       "        0.        ]], dtype=float32)"
      ]
     },
     "execution_count": 50,
     "metadata": {},
     "output_type": "execute_result"
    }
   ],
   "source": [
    "X"
   ]
  },
  {
   "cell_type": "code",
   "execution_count": 51,
   "metadata": {},
   "outputs": [
    {
     "name": "stdout",
     "output_type": "stream",
     "text": [
      "MSE: 25716.262, RMSE: 160.363\n",
      "MAE: 130.652\n",
      "Predicted: 134.596\n"
     ]
    }
   ],
   "source": [
    "# Train the model\n",
    "model = train_model(train_dl, model)\n",
    "\n",
    "# Evaluate the model\n",
    "mse, mae = evaluate_model(test_dl, model)\n",
    "print('MSE: %.3f, RMSE: %.3f' % (mse, sqrt(mse)))\n",
    "print('MAE: %.3f' % (mae))\n",
    "\n",
    "# Make a single prediction\n",
    "row = [0.725, 0.560, 0.210, 2.1410, 0.3980, 1.005]\n",
    "yhat = predict(row, model, dataset)\n",
    "print('Predicted: %.3f' % yhat)"
   ]
  },
  {
   "attachments": {},
   "cell_type": "markdown",
   "metadata": {},
   "source": [
    "### CONCLUSIONES\n",
    "\n",
    "- Primero para concluir, sobre el modelo de perceptron multicapa, es adecuado para este problema de regresión porque puede capturar relaciones complejas entre las características y predecir de manera precisa la cantidad de anillos en los abulones.\n",
    "\n",
    "- En general, las predicciones del modelo tienen una tendencia a estar cercanas a los valores reales de la columna \"Rings\". Esto sugiere que el modelo ha capturado cierta relación entre las características de los abulones y la cantidad de anillos de manera razonable.\n",
    "\n",
    "- Sin embargo, existen algunas discrepancias entre las predicciones y los valores reales. Estas discrepancias pueden deberse a la naturaleza inherentemente compleja del problema de predicción de la cantidad de anillos en abulones, que puede verse afectado por múltiples factores y no ser completamente lineal.\n",
    "\n",
    "\n"
   ]
  },
  {
   "attachments": {},
   "cell_type": "markdown",
   "metadata": {},
   "source": [
    "## Pregunta 2. Aplique regresión Ridge sobre el conjunto de datos de los abulones\n",
    "\n",
    "- a) (2 puntos) Aplique regresión Ridge al conjunto de datos limpio y escalado. \n",
    "- b) (1 puntos) Calcule la pérdida utilizando el MSE y el MAE.\n",
    "- c) (2 puntos) Compare los resultados con los del ejercicio anterior."
   ]
  },
  {
   "cell_type": "code",
   "execution_count": 52,
   "metadata": {},
   "outputs": [
    {
     "data": {
      "text/plain": [
       "0.003225600722936539"
      ]
     },
     "execution_count": 52,
     "metadata": {},
     "output_type": "execute_result"
    }
   ],
   "source": [
    "# a)  Aplique regresión Ridge al conjunto de datos limpio y escalado. \n",
    "\n",
    "from sklearn.linear_model import Ridge\n",
    "from sklearn.metrics import r2_score\n",
    "\n",
    "ridge = Ridge(alpha=0.1)\n",
    "ridge.fit(X_train, y_train)\n",
    "\n",
    "y_pred = ridge.predict(X_train)\n",
    "ridge_r2 = r2_score(y_train, y_pred)\n",
    "\n",
    "ridge_r2"
   ]
  },
  {
   "cell_type": "code",
   "execution_count": 53,
   "metadata": {},
   "outputs": [
    {
     "name": "stdout",
     "output_type": "stream",
     "text": [
      "MSE Loss: 102940.20047634249\n",
      "MAE Loss: 29.07990628117212\n"
     ]
    }
   ],
   "source": [
    "from sklearn.metrics import mean_squared_error, mean_absolute_error\n",
    "\n",
    "# Calcular la pérdida utilizando el MSE\n",
    "mse_loss = mean_squared_error(y_train, y_pred)\n",
    "\n",
    "# Calcular la pérdida utilizando el MAE\n",
    "mae_loss = mean_absolute_error(y_train, y_pred)\n",
    "\n",
    "# Imprimir las pérdidas\n",
    "print(\"MSE Loss:\", mse_loss)\n",
    "print(\"MAE Loss:\", mae_loss)\n"
   ]
  },
  {
   "attachments": {},
   "cell_type": "markdown",
   "metadata": {},
   "source": [
    "## Pregunta 3. Implemente un perceptrón de una capa \n",
    "\n",
    "**Es requisito indispensable para tomar en cuenta el ejercicio, usar tensores de PyTorch.**\n",
    "\n",
    "- a)(10 puntos) Implemente el algoritmo del perceptrón de una capa prescindiendo al máximo de estructuras de tipo for, usando en su lugar operaciones matriciales. Debe implementarlo sin utilizar ninguna biblioteca, es decir, no se puede usar ninguna clase o funcionalidad desarrollada por PyTorch o alguna otra biblioteca (por ejemplo no se puede usar la clase de PyTorch nn.Module).\n",
    "- b)(2 puntos) Cree una columna adicional en los datos limpios y escalados de los abulones que nos permita hacer una clasificación binaria de estos. Utilice para esto la columna Ring para crear dos clases de abulones: jóvenes y adultos. Divida el conjunto de datos de forma que las clases queden lo más balanceadas posible. Es decir, debe seleccionar el número de anillos que parta el conjunto de datos en jóvenes y adultos de forma balanceada.   \n",
    "- c)(3 puntos) Utilice el perceptrón desarrollado en a) para realizar un clasificación binaria con los datos de los abulones.\n",
    "- d) (2 puntos) Calcule la exactitud (accuracy) del modelo. \n",
    "- e) (3 puntos) Realice al menos tres conclusiones sobre el ejercicio."
   ]
  },
  {
   "cell_type": "code",
   "execution_count": 55,
   "metadata": {},
   "outputs": [
    {
     "name": "stdout",
     "output_type": "stream",
     "text": [
      "Predicted:  1\n"
     ]
    }
   ],
   "source": [
    "import numpy as np\n",
    "\n",
    "class Perceptron:\n",
    "    def __init__(self, learning_rate=0.01, epochs=100):\n",
    "        self.learning_rate = learning_rate\n",
    "        self.epochs = epochs\n",
    "        self.weights = None\n",
    "        self.bias = None\n",
    "    \n",
    "    def train(self, X, y):\n",
    "        num_samples, num_features = X.shape\n",
    "        \n",
    "        # Inicializar los pesos y el sesgo con valores aleatorios pequeños\n",
    "        self.weights = np.random.randn(num_features)\n",
    "        self.bias = np.random.randn()\n",
    "        \n",
    "        for _ in range(self.epochs):\n",
    "            # Calcular la salida del perceptrón para todos los ejemplos\n",
    "            y_pred = self.predict(X)\n",
    "            \n",
    "            # Actualizar los pesos y el sesgo en función del error\n",
    "            self.weights += self.learning_rate * np.dot((y - y_pred), X)\n",
    "            self.bias += self.learning_rate * np.sum(y - y_pred)\n",
    "    \n",
    "    def predict(self, X):\n",
    "        # Calcular la salida del perceptrón para los ejemplos de entrada X\n",
    "        return np.where(np.dot(X, self.weights) + self.bias >= 0, 1, 0)\n",
    "\n",
    "# Preparar los datos\n",
    "Datos = np.array([\n",
    "    [0.745, 0.585, 0.215, 2.4990, 0.4720, 0.700, 17],\n",
    "    [0.740, 0.600, 0.195, 1.9740, 0.4085, 0.710, 16],\n",
    "    [0.735, 0.590, 0.225, 1.7560, 0.3405, 0.580, 21],\n",
    "    [0.730, 0.595, 0.230, 2.8255, 0.4190, 0.897, 17],\n",
    "    [0.725, 0.560, 0.210, 2.1410, 0.3980, 1.005, 18]\n",
    "])\n",
    "\n",
    "X = Datos[:, :-1]\n",
    "y = Datos[:, -1]\n",
    "\n",
    "# Crear y entrenar el Perceptrón\n",
    "perceptron = Perceptron(learning_rate=0.01, epochs=100)\n",
    "perceptron.train(X, y)\n",
    "\n",
    "# Hacer una predicción para un nuevo ejemplo\n",
    "new_example = np.array([0.720, 0.575, 0.220, 2.2000, 0.3900, 0.900])\n",
    "prediction = perceptron.predict(new_example)\n",
    "print('Predicted: ', prediction)\n",
    "\n"
   ]
  },
  {
   "cell_type": "code",
   "execution_count": 57,
   "metadata": {},
   "outputs": [
    {
     "name": "stdout",
     "output_type": "stream",
     "text": [
      "MSE: 9147.583, RMSE: 95.643\n",
      "MAE: 22.389\n",
      "Predicted: 26.333\n"
     ]
    }
   ],
   "source": [
    "# Train the model\n",
    "model = train_model(train_dl, model)\n",
    "\n",
    "# Evaluate the model\n",
    "mse, mae = evaluate_model(test_dl, model)\n",
    "print('MSE: %.3f, RMSE: %.3f' % (mse, sqrt(mse)))\n",
    "print('MAE: %.3f' % (mae))\n",
    "\n",
    "# Make a single prediction\n",
    "row = [0.725, 0.560, 0.210, 2.1410, 0.3980, 1.005]\n",
    "yhat = predict(row, model, dataset)\n",
    "print('Predicted: %.3f' % yhat)\n"
   ]
  }
 ],
 "metadata": {
  "colab": {
   "collapsed_sections": [],
   "name": "Quiz_1_Matemática_para_ciencia_de_los_datos.ipynb",
   "provenance": []
  },
  "kernelspec": {
   "display_name": "Python 3 (ipykernel)",
   "language": "python",
   "name": "python3"
  },
  "language_info": {
   "codemirror_mode": {
    "name": "ipython",
    "version": 3
   },
   "file_extension": ".py",
   "mimetype": "text/x-python",
   "name": "python",
   "nbconvert_exporter": "python",
   "pygments_lexer": "ipython3",
   "version": "3.11.4"
  }
 },
 "nbformat": 4,
 "nbformat_minor": 4
}
